{
  "nbformat": 4,
  "nbformat_minor": 0,
  "metadata": {
    "colab": {
      "provenance": []
    },
    "kernelspec": {
      "name": "python3",
      "display_name": "Python 3"
    },
    "language_info": {
      "name": "python"
    }
  },
  "cells": [
    {
      "cell_type": "code",
      "execution_count": null,
      "metadata": {
        "id": "_g6EnEBEya0b"
      },
      "outputs": [],
      "source": [
        "import numpy as np\n",
        "import matplotlib.pyplot as plt"
      ]
    },
    {
      "cell_type": "code",
      "source": [
        "arr=np.array([1,2,3,4,5])\n",
        "print(arr)\n",
        "\n",
        "zero_arr=np.zeros((3,3),int)\n",
        "print(zero_arr)\n",
        "\n",
        "one_arr=np.ones((2,2),int)\n",
        "print(one_arr)\n",
        "\n",
        "arange_arr=np.arange(10)\n",
        "print(arange_arr)\n",
        "\n",
        "reshape_arr=arr.reshape(5,1)\n",
        "print(reshape_arr)\n",
        "\n",
        "sliced_arr=arr[2:4]\n",
        "print(sliced_arr)\n",
        "\n"
      ],
      "metadata": {
        "id": "oBjHrC-Y8Irt"
      },
      "execution_count": null,
      "outputs": []
    },
    {
      "cell_type": "code",
      "source": [
        "arr1=np.array([1,2,3,4,5])\n",
        "arr2=np.array([6,7,8,9,10])\n",
        "arr3=arr1+arr2\n",
        "print(arr3)\n",
        "\n",
        "arr4=arr+3\n",
        "print(arr4)\n",
        "\n",
        "arr5=np.vstack(arr1+arr2)\n",
        "print(arr5)\n",
        "\n",
        "arr5=np.stack(arr1+arr2)\n",
        "print(arr5)\n",
        "\n",
        "arr6=np.split(arr1,5)\n",
        "print(arr6)\n",
        "\n",
        "a1=np.array([1,2,3,4,5,6])\n",
        "a2=np.split(a1,2)\n",
        "print(a2)\n",
        "\n",
        "b=arr1.T\n",
        "print(b)\n"
      ],
      "metadata": {
        "id": "hS_OjYdRAale"
      },
      "execution_count": null,
      "outputs": []
    },
    {
      "cell_type": "code",
      "source": [
        "a=np.array([[1,2],[4,5]])\n",
        "b=np.array([[7,8],[10,11]])\n",
        "print(a)\n",
        "print(b)\n",
        "c=np.dot(a,b)\n",
        "print(c)\n",
        "\n",
        "d=np.linalg.eig(c)\n",
        "print(d)"
      ],
      "metadata": {
        "id": "6u3EPwmLKKJ3"
      },
      "execution_count": null,
      "outputs": []
    },
    {
      "cell_type": "code",
      "source": [
        "a=np.array([[1,2,3],[4,5,6]])\n",
        "print(a)\n",
        "print(a.sum())\n",
        "\n",
        "b=np.array([[1,2],[4,5],[3,6]])\n",
        "print(b)\n",
        "print(b.sum())\n",
        "\n",
        "a=np.array([[1,2,3],[4,5,6]])\n",
        "c=np.sum(a,axis=0)\n",
        "d=np.sum(a,axis=1)\n",
        "print(c)\n",
        "print(d)"
      ],
      "metadata": {
        "id": "2Mk7iTrbd6FG"
      },
      "execution_count": null,
      "outputs": []
    },
    {
      "cell_type": "code",
      "source": [
        "a=np.arange(9).reshape(3,3)\n",
        "print(a)\n",
        "print(np.mean(a))\n",
        "print(np.median(a))\n",
        "print(np.var(a))\n",
        "print(np.std(a))"
      ],
      "metadata": {
        "id": "fCH6aSwWicqv"
      },
      "execution_count": null,
      "outputs": []
    },
    {
      "cell_type": "code",
      "source": [
        "data=np.loadtxt(\"/content/filefile.txt\",dtype=int)\n",
        "data=np.savetxt(\"/content/filefile2.txt\",data)\n",
        "print(data)\n",
        "\n",
        "data=np.loadtxt(\"/content/filefile2.txt\",dtype=int)\n",
        "print(data)"
      ],
      "metadata": {
        "id": "7lQ2MQj7ldQ8"
      },
      "execution_count": null,
      "outputs": []
    },
    {
      "cell_type": "code",
      "source": [
        "\n",
        "a=np.array([1,2,3])\n",
        "plt.plot(a)"
      ],
      "metadata": {
        "id": "otXGvqmtvVJG"
      },
      "execution_count": null,
      "outputs": []
    }
  ]
}