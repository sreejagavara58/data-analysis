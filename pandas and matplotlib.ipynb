{
  "nbformat": 4,
  "nbformat_minor": 0,
  "metadata": {
    "colab": {
      "provenance": []
    },
    "kernelspec": {
      "name": "python3",
      "display_name": "Python 3"
    },
    "language_info": {
      "name": "python"
    }
  },
  "cells": [
    {
      "cell_type": "code",
      "execution_count": null,
      "metadata": {
        "id": "c8FjT1A9tp0N"
      },
      "outputs": [],
      "source": [
        "import pandas as pd\n",
        "import numpy as np\n",
        "import matplotlib .pyplot as plt"
      ]
    },
    {
      "cell_type": "code",
      "source": [
        "a=[\"sreeja\",\"sai\",\"meghana\",\"teja\"]\n",
        "b=pd.Series(a,index=[1,2,3,4])\n",
        "print(b)"
      ],
      "metadata": {
        "id": "DOl85QpJCkzZ"
      },
      "execution_count": null,
      "outputs": []
    },
    {
      "cell_type": "code",
      "source": [
        "#reading  csv file\n",
        "df=pd.read_csv(\"/content/titanic.csv\")\n",
        "print(df)"
      ],
      "metadata": {
        "id": "X2NYY4Y9twky"
      },
      "execution_count": null,
      "outputs": []
    },
    {
      "cell_type": "code",
      "source": [
        "#reading text file\n",
        "df=pd.read_csv(\"/content/numpy.txt\",sep=\" \")\n",
        "print(df)\n",
        "print(df.loc[1])"
      ],
      "metadata": {
        "id": "fYaURvhT3ZiM"
      },
      "execution_count": null,
      "outputs": []
    },
    {
      "cell_type": "code",
      "source": [
        "#reading excel file\n",
        "df=pd.read_excel(\"/content/PatientMovementTrackingTemplate.xlsx\",sheet_name=1)\n",
        "print(df)"
      ],
      "metadata": {
        "id": "OpxWlq661s3a"
      },
      "execution_count": null,
      "outputs": []
    },
    {
      "cell_type": "code",
      "source": [
        "#mean of the data\n",
        "df=pd.read_csv(\"/content/numberdataset.txt\",sep=\" \")\n",
        "mv=df['sem'].mean()\n",
        "df=df.fillna(mv)\n",
        "print(mv)\n",
        "\n",
        "#drop duplicates\n",
        "df=df.drop_duplicates()\n",
        "print(df)\n",
        "\n",
        "#starting and last lines using head , tail function\n",
        "df2=pd.read_csv(\"/content/titanic.csv\")\n",
        "df2.head() #default 5 lines\n",
        "df2.tail() #default 5 lines\n",
        "df2.shape"
      ],
      "metadata": {
        "id": "6X-5KDAO3f8K"
      },
      "execution_count": null,
      "outputs": []
    },
    {
      "cell_type": "code",
      "source": [
        "#mounting drive\n",
        "from google.colab import drive\n",
        "drive.mount('/content/drive')"
      ],
      "metadata": {
        "id": "vkDGgc1t_Lps"
      },
      "execution_count": null,
      "outputs": []
    },
    {
      "cell_type": "code",
      "source": [
        "#creating another csv file from particular lines of file and dropping that lines in file\n",
        "df2=pd.read_csv(\"/content/titanic.csv\")\n",
        "data_manual_testing=df2.tail(10)\n",
        "print(data_manual_testing)\n",
        "for i in range(417,407,-1):\n",
        "  df2.drop([i],axis=0,inplace=True)\n",
        "data_manual_testing.to_csv(\"manual_testing.csv\")\n",
        "df=pd.read_csv(\"/content/manual_testing.csv\")\n",
        "print(df)\n",
        "print(df2)\n",
        "#groupby\n",
        "print(df.groupby(['PassengerId'])['Survived'].count())"
      ],
      "metadata": {
        "id": "p88mGr8OMcpM"
      },
      "execution_count": null,
      "outputs": []
    },
    {
      "cell_type": "code",
      "source": [
        "#scatter\n",
        "runs=np.array([100,50,91,78,89,25,34,19,9,10])\n",
        "w=np.array([1,0,2,0,3,7,8,9,7,5])\n",
        "plt.scatter(runs,w,color='black')\n",
        "plt.title('Ind vs Aus score')\n",
        "plt.show()"
      ],
      "metadata": {
        "id": "Z2OX5WJ3TEon"
      },
      "execution_count": null,
      "outputs": []
    },
    {
      "cell_type": "code",
      "source": [
        "#plot\n",
        "tigar=np.linspace(-2*np.pi,2*np.pi,50)\n",
        "print(tigar)\n",
        "plt.plot(tigar,np.sin(tigar),color='black')\n",
        "plt.title(\"sin(x)\")\n",
        "plt.show()"
      ],
      "metadata": {
        "id": "uQSXlYpMqpF4"
      },
      "execution_count": null,
      "outputs": []
    },
    {
      "cell_type": "code",
      "source": [
        "#creating x\n",
        "overs=np.arange(5,50,5)\n",
        "overs_a=np.arange(5,30,5)\n",
        "#creating y\n",
        "runs_i=np.array([25,51,84,131,160,189,220,250,267])\n",
        "runs_a=np.array([15,41,94,110,151])\n",
        "wickets=np.array([12,32,96])\n",
        "#plotting\n",
        "plt.plot(overs,runs_i,color='blue',label='India')\n",
        "plt.plot(overs_a,runs_a,color='red',label='Aus')\n",
        "#combining two graphs\n",
        "plt.legend(loc='best')\n",
        "#displaying the final graph\n",
        "plt.show()"
      ],
      "metadata": {
        "id": "zpsjLzjuu-XC"
      },
      "execution_count": null,
      "outputs": []
    },
    {
      "cell_type": "code",
      "source": [
        "#subplot\n",
        "a=[230,560,780,127,128]\n",
        "b=[200,161,270,127,400]\n",
        "years=[1,2,3,4]\n",
        "profit_a=[(a[i]-a[i-1]) for i in range(1,len(a))]\n",
        "profit_b=[(b[i]-b[i-1]) for i in range(1,len(b))]\n",
        "plt.subplot(2,1,1)\n",
        "plt.plot(years,profit_a,color='hotpink',linewidth='3',label='CompanyA',marker='*',ms='15',mec='k')\n",
        "plt.subplot(2,1,2)\n",
        "plt.plot(years,profit_b,color='black',linestyle='dotted',label='CompanyB',marker='*',ms='15',mec='k')\n",
        "plt.legend(loc='best')\n",
        "plt.show()"
      ],
      "metadata": {
        "id": "W_XKe__Ix9aR"
      },
      "execution_count": null,
      "outputs": []
    },
    {
      "cell_type": "code",
      "source": [
        "#piechart\n",
        "a=np.array([25,60,5,10])\n",
        "labe=[\"AIML\",\"Python\",\"Pandas\",\"Numpy\"]\n",
        "plt.pie(a,labels=labe)\n",
        "plt.show()"
      ],
      "metadata": {
        "id": "5nNH2E4c8ktu"
      },
      "execution_count": null,
      "outputs": []
    },
    {
      "cell_type": "code",
      "source": [
        "#explode in piechart\n",
        "a=np.array([25,60,5,10])\n",
        "labe=[\"AIML\",\"Python\",\"Pandas\",\"Numpy\"]\n",
        "explo=[0.075,0,0,0]\n",
        "c=[\"hotpink\",\"green\",\"yellow\",\"blue\"]\n",
        "plt.pie(a,labels=labe,explode=explo,colors=c,startangle=180)\n",
        "plt.show()"
      ],
      "metadata": {
        "id": "g0XxPD9M9Nwd"
      },
      "execution_count": null,
      "outputs": []
    }
  ]
}