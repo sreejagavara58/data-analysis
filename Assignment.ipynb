{
  "nbformat": 4,
  "nbformat_minor": 0,
  "metadata": {
    "colab": {
      "provenance": []
    },
    "kernelspec": {
      "name": "python3",
      "display_name": "Python 3"
    },
    "language_info": {
      "name": "python"
    }
  },
  "cells": [
    {
      "cell_type": "code",
      "execution_count": null,
      "metadata": {
        "id": "L30VGwiUx6RG"
      },
      "outputs": [],
      "source": [
        "import pandas as pd\n",
        "import numpy as np\n",
        "import matplotlib.pyplot as plt\n",
        "from sklearn.linear_model import LinearRegression\n",
        "from sklearn.metrics import mean_squared_error\n",
        "from sklearn.model_selection import train_test_split as ttp\n",
        "from sklearn.metrics import classification_report\n",
        "from sklearn.linear_model import LogisticRegression\n",
        "import re\n",
        "import string\n",
        "import nltk"
      ]
    },
    {
      "cell_type": "code",
      "source": [
        "#TASK1\n",
        "df=pd.read_csv(\"/content/Temperature.txt\",sep=\" \")\n",
        "print(df)\n",
        "print(\"\\nThe average temperature in 50 days is: \")\n",
        "avg=df['Temperature'].mean()\n",
        "print(avg)\n",
        "print(\"\\nLowest temperature recorded is: \")\n",
        "print(df['Temperature'].min())\n",
        "print(\"\\nHighest temperature recorded is: \")\n",
        "print(df['Temperature'].max())\n",
        "day=0\n",
        "for i in df['Temperature']:\n",
        "  if (i>avg):\n",
        "    day=day+1\n",
        "print(\"\\nNumber of days where the temperature exceeded threshold is: \",day,\"\\n\")\n",
        "plt.plot(df['Days'],df['Temperature'],color='black')\n",
        "plt.title(\"Temperature for 50 days\")\n",
        "plt.xlabel('Days')\n",
        "plt.ylabel('Temperature')\n",
        "plt.show()"
      ],
      "metadata": {
        "id": "1wZrqJtxyHY1"
      },
      "execution_count": null,
      "outputs": []
    },
    {
      "cell_type": "code",
      "source": [
        "#linear Regression\n",
        "data_survive=pd.read_csv(\"/content/survive.csv\")\n",
        "data_dead=pd.read_csv(\"/content/dead.csv\")\n",
        "data_survive.head(5)\n",
        "data_dead.head(5)\n",
        "data_survive.shape,data_dead.shape\n",
        "data_survive[\"class\"]=1\n",
        "data_dead[\"class\"]=0\n",
        "data_survive_test=data_survive.tail(10)\n",
        "for i in range(24,14,-1):\n",
        "  data_survive.drop([i],axis=0,inplace=True)\n",
        "data_dead_test=data_dead.tail(10)\n",
        "for i in range(24,14,-1):\n",
        "  data_dead.drop([i],axis=0,inplace=True)\n",
        "data_merge=pd.concat([data_dead,data_survive],axis=0)\n",
        "data_merge.to_csv(\"manual_training.csv\")\n",
        "dmt=pd.concat([data_dead_test,data_survive_test],axis=0)\n",
        "dmt.to_csv(\"manual_testing.csv\")\n",
        "data_training=pd.read_csv('/content/manual_training.csv')\n",
        "data_testing=pd.read_csv('/content/manual_testing.csv')\n",
        "x1=data_training[[\"PassengerId\"]]\n",
        "y1=data_training[\"class\"]\n",
        "x1.shape\n",
        "y1.shape\n",
        "x_test=data_testing[\"PassengerId\"]\n",
        "y_test=data_testing[\"class\"]\n",
        "model=LinearRegression()\n",
        "model.fit(x1,y1)\n",
        "x_test = x_test.values.reshape(-1, 1)\n",
        "prediction=model.predict(x_test)\n",
        "plt.scatter(x_test,prediction)\n",
        "plt.title(\"Titanic Survival Rate\")\n",
        "plt.xlabel(\"PassengerId\")\n",
        "plt.ylabel(\"Survived\")\n",
        "plt.show()"
      ],
      "metadata": {
        "id": "S5sQuPAOGAhI"
      },
      "execution_count": null,
      "outputs": []
    },
    {
      "cell_type": "code",
      "source": [
        "#l0gistic Regression\n",
        "data_survive=pd.read_csv(\"/content/survive.csv\")\n",
        "data_dead=pd.read_csv(\"/content/dead.csv\")\n",
        "data_survive.head(5)\n",
        "data_dead.head(5)\n",
        "data_survive.shape,data_dead.shape\n",
        "data_survive[\"class\"]=1\n",
        "data_dead[\"class\"]=0\n",
        "data_survive_test=data_survive.tail(10)\n",
        "for i in range(24,14,-1):\n",
        "  data_survive.drop([i],axis=0,inplace=True)\n",
        "data_dead_test=data_dead.tail(10)\n",
        "for i in range(24,14,-1):\n",
        "  data_dead.drop([i],axis=0,inplace=True)\n",
        "data_merge=pd.concat([data_dead,data_survive],axis=0)\n",
        "data_merge.to_csv(\"manual_training.csv\")\n",
        "dmt=pd.concat([data_dead_test,data_survive_test],axis=0)\n",
        "dmt.to_csv(\"manual_testing.csv\")\n",
        "data_training=pd.read_csv('/content/manual_training.csv')\n",
        "data_testing=pd.read_csv('/content/manual_testing.csv')\n",
        "x1=data_training[[\"PassengerId\"]]\n",
        "y1=data_training[\"class\"]\n",
        "x1.shape\n",
        "y1.shape\n",
        "x_test=data_testing[\"PassengerId\"]\n",
        "y_test=data_testing[\"class\"]\n",
        "model=LogisticRegression()\n",
        "model.fit(x1,y1)\n",
        "x_test = x_test.values.reshape(-1, 1)\n",
        "prediction=model.predict(x_test)\n",
        "plt.scatter(x_test,prediction)\n",
        "print(prediction)\n",
        "plt.title(\"Titanic Survival Rate\")\n",
        "plt.xlabel(\"PassengerId\")\n",
        "plt.ylabel(\"Survived\")\n",
        "plt.show()"
      ],
      "metadata": {
        "id": "hgqeuG3GGIu3"
      },
      "execution_count": null,
      "outputs": []
    }
  ]
}